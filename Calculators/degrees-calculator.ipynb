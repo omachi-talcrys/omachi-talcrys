{
 "cells": [
  {
   "cell_type": "code",
   "execution_count": 2,
   "metadata": {},
   "outputs": [
    {
     "name": "stdout",
     "output_type": "stream",
     "text": [
      "32 degrees Celsius is equal to 89.6 degrees Fahrenheit!\n"
     ]
    }
   ],
   "source": [
    "# Challenge 3: Te# \n",
    "# Build a program that converts temperatures from Celsius to Fahrenheit and vice versa. \n",
    "# Use input to get the temperature and a condition to select the conversion direction.\n",
    "\n",
    "temp_input = input(\"Please provide the temperature that you would like to convert. Make sure to include if it's Celsis or Fahrenheit\")\n",
    "temp_parts = temp_input.split()\n",
    "number_only = int(temp_parts[0])\n",
    "\n",
    "\n",
    "if \"F\" in temp_input or \"f\" in temp_input or \"Fahrenheit\" in temp_input and \"C\" not in temp_input : \n",
    "    result = float((number_only - 32) * (5 / 9))\n",
    "    round_result = round(result, 2)\n",
    "    print(number_only, \"degrees Fahrenheit is\", round_result, \"degrees Celsius!\")\n",
    "    # I want to try another way to print the temp result\n",
    "    # print(f\"{number_only} degrees Fahrenheit is {round_result} degrees Celsius!\")\n",
    "    # one more way!\n",
    "    # print(\"{} degrees Fahrenheit is {} degrees Celsius!\".format(number_only, round_result))\n",
    "\n",
    "if \"C\" in temp_input or \"c\" in temp_input or \"Celsius\" in temp_input:\n",
    "    result = float((number_only * (9 / 5)) + 32)\n",
    "    round_result = round(result, 2)\n",
    "    print(\"{} degrees Celsius is equal to {} degrees Fahrenheit!\".format(number_only, round_result))\n",
    "\n"
   ]
  }
 ],
 "metadata": {
  "kernelspec": {
   "display_name": "Python 3",
   "language": "python",
   "name": "python3"
  },
  "language_info": {
   "codemirror_mode": {
    "name": "ipython",
    "version": 3
   },
   "file_extension": ".py",
   "mimetype": "text/x-python",
   "name": "python",
   "nbconvert_exporter": "python",
   "pygments_lexer": "ipython3",
   "version": "3.12.6"
  }
 },
 "nbformat": 4,
 "nbformat_minor": 2
}
