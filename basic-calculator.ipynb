{
 "cells": [
  {
   "cell_type": "code",
   "execution_count": 3,
   "metadata": {},
   "outputs": [
    {
     "name": "stdout",
     "output_type": "stream",
     "text": [
      "32\n"
     ]
    }
   ],
   "source": [
    "# something so that it lets me move it to the file explorer\n",
    "\n",
    "# this basic calculator allows an input of up to 4 numbers. \n",
    "\n",
    "# this basic calculator is NOT able to perform equations with more than one operator\n",
    "\n",
    "\n",
    "\n",
    "# Ask for user's input\n",
    "equation = input(\"What would you like to solve today?\")\n",
    "\n",
    "# normalize the operator signs\n",
    "likely_input = equation.replace(\"+\", \" \").replace(\"-\", \" \").replace(\"/\", \" \").replace(\"x\", \" \").replace(\"*\", \" \").replace(\"=\", \" \")\n",
    "\n",
    "# seperate parts\n",
    "equation_parts = likely_input.split()\n",
    "\n",
    "a = []\n",
    "\n",
    "num1 = int(equation_parts[0]) if len(equation_parts) > 0 else 0\n",
    "num2 = int(equation_parts[1]) if len(equation_parts) > 1 else 0\n",
    "num3 = int(equation_parts[2]) if len(equation_parts) > 2 else 0\n",
    "num4 = int(equation_parts[3]) if len(equation_parts) > 3 else 0\n",
    "\n",
    "# make a list\n",
    "a = []\n",
    "if len(equation_parts) > 0: a.append(num1)\n",
    "if len(equation_parts) > 1: a.append(num2)\n",
    "if len(equation_parts) > 2: a.append(num3)\n",
    "if len(equation_parts) > 3: a.append(num4)\n",
    "\n",
    "operators = []\n",
    "\n",
    "for part in equation_parts:\n",
    "    if part in ['+', '-', '*', '/']:  # Check if the part is an operator\n",
    "        operators.append(part)\n",
    "\n",
    "\n",
    "if '+' in equation and '-' not in equation:\n",
    "    result = sum(a)\n",
    "    print(result)\n",
    "\n",
    "diff = num1 - num2 - num3 - num4\n",
    "\n",
    "if '-' in equation and '+' not in equation:\n",
    "    result = diff\n",
    "    print(result)\n",
    "\n",
    "num1 = int(equation_parts[0]) if len(equation_parts) > 0 else 0\n",
    "num2 = int(equation_parts[1]) if len(equation_parts) > 1 else 1\n",
    "num3 = int(equation_parts[2]) if len(equation_parts) > 2 else 1\n",
    "num4 = int(equation_parts[3]) if len(equation_parts) > 3 else 1\n",
    "\n",
    "multipli = num1 * num2 * num3 * num4\n",
    "\n",
    "if '*' in equation or 'x' in equation:\n",
    "    result = multipli\n",
    "    print(result)\n",
    "\n",
    "divisi = num1 / num2 / num3 / num4\n",
    "\n",
    "if '/' in equation:\n",
    "    result = divisi\n",
    "    print(result)\n",
    "\n",
    "\n",
    "\n"
   ]
  }
 ],
 "metadata": {
  "kernelspec": {
   "display_name": "Python 3",
   "language": "python",
   "name": "python3"
  },
  "language_info": {
   "codemirror_mode": {
    "name": "ipython",
    "version": 3
   },
   "file_extension": ".py",
   "mimetype": "text/x-python",
   "name": "python",
   "nbconvert_exporter": "python",
   "pygments_lexer": "ipython3",
   "version": "3.12.6"
  }
 },
 "nbformat": 4,
 "nbformat_minor": 2
}
